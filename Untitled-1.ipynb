{
 "cells": [
  {
   "cell_type": "code",
   "execution_count": null,
   "id": "73996fa6",
   "metadata": {},
   "outputs": [],
   "source": [
    "import numpy as np\n",
    "import pandas as pd\n",
    "\n",
    "# Welcome to your new Jupyter Notebook\n",
    "# This is your first cell - you can start coding here\n",
    "\n",
    "import matplotlib.pyplot as plt\n",
    "\n",
    "print(\"Jupyter Notebook is ready to use!\")\n",
    "print(\"Common libraries imported: numpy, pandas, matplotlib\")"
   ]
  }
 ],
 "metadata": {
  "language_info": {
   "name": "python"
  }
 },
 "nbformat": 4,
 "nbformat_minor": 5
}
